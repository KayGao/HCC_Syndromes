{
 "cells": [
  {
   "cell_type": "code",
   "execution_count": 1,
   "metadata": {},
   "outputs": [],
   "source": [
    "import networkx as nx\n",
    "import numpy as np\n",
    "import pandas as pd\n",
    "from collections import defaultdict\n",
    "import sys\n",
    "sys.path.append('./utils/')\n",
    "\n",
    "\n",
    "import tqdm\n",
    "import separation"
   ]
  },
  {
   "cell_type": "code",
   "execution_count": 3,
   "metadata": {},
   "outputs": [],
   "source": [
    "def connected_component_subgraphs(G, copy=True):\n",
    "    ## this function was removed from latest versions of networkx!!\n",
    "    for c in nx.connected_components(G):\n",
    "        if copy:\n",
    "            yield G.subgraph(c).copy()\n",
    "        else:\n",
    "            yield G.subgraph(c)"
   ]
  },
  {
   "cell_type": "code",
   "execution_count": 4,
   "metadata": {},
   "outputs": [],
   "source": [
    "interactome_file = './data/PPI_Dataset.csv'\n",
    "mapping_file = './data/interactome_2019_merged_protAnnots.csv'\n",
    "disease_genes_file = './data/TCM_Syndrome 5.tsv'"
   ]
  },
  {
   "cell_type": "code",
   "execution_count": 5,
   "metadata": {},
   "outputs": [
    {
     "name": "stdout",
     "output_type": "stream",
     "text": [
      "17341 311497\n"
     ]
    }
   ],
   "source": [
    "hi = pd.read_csv(interactome_file)\n",
    "edges = zip(hi.proteinA_entrezid, hi.proteinB_entrezid)\n",
    "hi = nx.Graph()\n",
    "hi.add_edges_from(edges)\n",
    "\n",
    "## consider only LCC\n",
    "G = list(connected_component_subgraphs(hi))[0]\n",
    "print (len(G.nodes()), len(G.edges()))"
   ]
  },
  {
   "cell_type": "code",
   "execution_count": 6,
   "metadata": {},
   "outputs": [],
   "source": [
    "mapping = pd.read_csv(mapping_file,\n",
    "                     index_col = 0)\n",
    "symbol2entrez = {i:j for i,j in zip(mapping.Symbol, mapping.GeneID)}"
   ]
  },
  {
   "cell_type": "code",
   "execution_count": 7,
   "metadata": {},
   "outputs": [],
   "source": [
    "disease2genes = {}\n",
    "for i in open(disease_genes_file).readlines():\n",
    "    v = i.rstrip().split('\\t')\n",
    "    disease = v[1]\n",
    "    genes = v[2:]\n",
    "    if len(genes) > 19:\n",
    "        disease2genes[disease] = [int(i) for i in genes]"
   ]
  },
  {
   "cell_type": "code",
   "execution_count": 8,
   "metadata": {},
   "outputs": [],
   "source": [
    "# disease2genes"
   ]
  },
  {
   "cell_type": "code",
   "execution_count": 9,
   "metadata": {},
   "outputs": [
    {
     "data": {
      "text/plain": [
       "2835"
      ]
     },
     "execution_count": 9,
     "metadata": {},
     "output_type": "execute_result"
    }
   ],
   "source": [
    "diseasegenes = list(disease2genes.values())\n",
    "diseasegenes = sum(diseasegenes, [])\n",
    "diseasegenes = list(set(diseasegenes))\n",
    "len(diseasegenes)"
   ]
  },
  {
   "cell_type": "code",
   "execution_count": 10,
   "metadata": {},
   "outputs": [],
   "source": [
    "dic = {'CEP43':11116, 'MTARC1':64757}\n",
    "symbol2entrez.update(dic)"
   ]
  },
  {
   "cell_type": "code",
   "execution_count": 11,
   "metadata": {},
   "outputs": [],
   "source": [
    "dt = pd.read_csv('./data/HCC_Dataset.csv')\n"
   ]
  },
  {
   "cell_type": "markdown",
   "metadata": {},
   "source": [
    "# $S_{AB}$"
   ]
  },
  {
   "cell_type": "code",
   "execution_count": 12,
   "metadata": {},
   "outputs": [
    {
     "name": "stderr",
     "output_type": "stream",
     "text": [
      "100%|██████████| 5/5 [06:05<00:00, 73.03s/it] \n"
     ]
    }
   ],
   "source": [
    "sab = {}\n",
    "for disease in tqdm.tqdm(disease2genes.keys()):\n",
    "\n",
    "#disease = list(disease2genes.keys())[0]\n",
    "    genes_A = set(dt.EntrezID) & set(G.nodes())\n",
    "    genes_B = set(disease2genes[disease]) & set(G.nodes())\n",
    "    d_A = separation.calc_single_set_distance(G,genes_A)\n",
    "    d_B = separation.calc_single_set_distance(G,genes_B)\n",
    "\n",
    "    # distances BETWEEN the two gene sets:\n",
    "    d_AB = separation.calc_set_pair_distances(G,genes_A,genes_B)\n",
    "\n",
    "    # calculate separation\n",
    "    s_AB = d_AB - (d_A + d_B)/2.\n",
    "    sab[disease] = s_AB"
   ]
  },
  {
   "cell_type": "code",
   "execution_count": 13,
   "metadata": {},
   "outputs": [
    {
     "data": {
      "text/html": [
       "<div>\n",
       "<style scoped>\n",
       "    .dataframe tbody tr th:only-of-type {\n",
       "        vertical-align: middle;\n",
       "    }\n",
       "\n",
       "    .dataframe tbody tr th {\n",
       "        vertical-align: top;\n",
       "    }\n",
       "\n",
       "    .dataframe thead th {\n",
       "        text-align: right;\n",
       "    }\n",
       "</style>\n",
       "<table border=\"1\" class=\"dataframe\">\n",
       "  <thead>\n",
       "    <tr style=\"text-align: right;\">\n",
       "      <th></th>\n",
       "      <th>disease</th>\n",
       "      <th>sab</th>\n",
       "    </tr>\n",
       "  </thead>\n",
       "  <tbody>\n",
       "    <tr>\n",
       "      <th>0</th>\n",
       "      <td>syndrome of liver depression and spleen defici...</td>\n",
       "      <td>-0.028361</td>\n",
       "    </tr>\n",
       "    <tr>\n",
       "      <th>1</th>\n",
       "      <td>syndrome of liver-gallbladder dampness heat</td>\n",
       "      <td>0.429812</td>\n",
       "    </tr>\n",
       "    <tr>\n",
       "      <th>2</th>\n",
       "      <td>syndrome of liver heat and blood stasis</td>\n",
       "      <td>0.008063</td>\n",
       "    </tr>\n",
       "    <tr>\n",
       "      <th>3</th>\n",
       "      <td>syndrome of spleen deficiency and dampness sta...</td>\n",
       "      <td>0.011633</td>\n",
       "    </tr>\n",
       "    <tr>\n",
       "      <th>4</th>\n",
       "      <td>syndrome of liver-kidney yin deficiency</td>\n",
       "      <td>0.082561</td>\n",
       "    </tr>\n",
       "  </tbody>\n",
       "</table>\n",
       "</div>"
      ],
      "text/plain": [
       "                                             disease       sab\n",
       "0  syndrome of liver depression and spleen defici... -0.028361\n",
       "1        syndrome of liver-gallbladder dampness heat  0.429812\n",
       "2            syndrome of liver heat and blood stasis  0.008063\n",
       "3  syndrome of spleen deficiency and dampness sta...  0.011633\n",
       "4            syndrome of liver-kidney yin deficiency  0.082561"
      ]
     },
     "execution_count": 13,
     "metadata": {},
     "output_type": "execute_result"
    }
   ],
   "source": [
    "dx = pd.DataFrame.from_dict(sab, orient='index')\n",
    "dx = dx.reset_index()\n",
    "dx.columns = ['disease', 'sab']\n",
    "dx.head()"
   ]
  },
  {
   "cell_type": "code",
   "execution_count": 18,
   "metadata": {},
   "outputs": [],
   "source": [
    "dx.to_csv('./output/sab_all_syndrome_to_hcc.csv')"
   ]
  },
  {
   "cell_type": "code",
   "execution_count": null,
   "metadata": {},
   "outputs": [],
   "source": []
  }
 ],
 "metadata": {
  "kernelspec": {
   "display_name": "Python 3 (ipykernel)",
   "language": "python",
   "name": "python3"
  },
  "language_info": {
   "codemirror_mode": {
    "name": "ipython",
    "version": 3
   },
   "file_extension": ".py",
   "mimetype": "text/x-python",
   "name": "python",
   "nbconvert_exporter": "python",
   "pygments_lexer": "ipython3",
   "version": "3.11.7"
  }
 },
 "nbformat": 4,
 "nbformat_minor": 4
}
